{
 "cells": [
  {
   "cell_type": "markdown",
   "metadata": {},
   "source": [
    " # Zajęcia 2: Podstawowe struktury danych i kontrola przepływu w Pythonie\n",
    "\n",
    " ## Typy danych w Pythonie\n",
    "\n",
    " ### Typy atomowe (proste)\n",
    "\n",
    " - `int` - liczby całkowite, np. 42, -7, 0\n",
    "\n",
    " - `float` - liczby zmiennoprzecinkowe, np. 3.14, -0.001, 2.0\n",
    "\n",
    " - `str` - łańcuchy znaków (tekst), np. \"Python\", 'Hello'\n",
    "\n",
    " - `bool` - wartości logiczne: True lub False\n",
    "\n",
    " ### Typy złożone (kolekcje)\n",
    "\n",
    " - `list` - listy: uporządkowane, modyfikowalne kolekcje, np. [1, 2, 3]\n",
    "\n",
    " - `tuple` - krotki: uporządkowane, niemodyfikowalne kolekcje, np. (1, 2, 3)\n",
    "\n",
    " - `dict` - słowniki: pary klucz-wartość, np. {\"nazwa\": \"Python\", \"wersja\": 3.10}\n",
    "\n",
    " - `set` - zbiory: nieuporządkowane kolekcje unikalnych elementów, np. {1, 2, 3}\n",
    "\n",
    " ### Listy (list)\n",
    "\n",
    " Listy to uporządkowane, zmienialne kolekcje elementów, które mogą być różnych typów."
   ]
  },
  {
   "cell_type": "code",
   "execution_count": null,
   "metadata": {},
   "outputs": [],
   "source": [
    "# Tworzenie listy\n",
    "owoce = [\"jabłko\", \"banan\", \"gruszka\", \"pomarańcza\"]\n",
    "mieszana_lista = [1, \"dwa\", 3.0, True, None]\n",
    "\n",
    "# Dostęp do elementów (indeksowanie)\n",
    "pierwszy_owoc = owoce[0]      # \"jabłko\"\n",
    "ostatni_owoc = owoce[-1]      # \"pomarańcza\"\n",
    "\n",
    "# Modyfikacja elementów\n",
    "owoce[1] = \"truskawka\"        # [\"jabłko\", \"truskawka\", \"gruszka\", \"pomarańcza\"]\n",
    "\n",
    "# Dodawanie elementów\n",
    "owoce.append(\"malina\")        # Dodaje element na końcu\n",
    "owoce.insert(2, \"borówka\")    # Wstawia element na pozycji 2\n",
    "\n",
    "# Usuwanie elementów\n",
    "usuniety_owoc = owoce.pop(1)  # Usuwa i zwraca element na pozycji 1\n",
    "owoce.remove(\"gruszka\")       # Usuwa pierwsze wystąpienie \"gruszka\"\n",
    "\n",
    "# Długość listy\n",
    "liczba_owocow = len(owoce)\n",
    "\n",
    "# Wycinki list (slicing)\n",
    "pierwsze_dwa = owoce[0:2]     # [\"jabłko\", \"truskawka\"]\n",
    "co_drugi = owoce[1::2]       # [\"truskawka\", \"pomarańcza\"] \n"
   ]
  },
  {
   "cell_type": "markdown",
   "metadata": {},
   "source": [
    "### Zadanie praktyczne: Wprowadzanie danych BMI z wykorzystaniem list\n",
    "\n",
    "W tym zadaniu przeanalizujemy dane dotyczące BMI (Body Mass Index) kilku osób. Wykonaj poniższe kroki w swoim notebooku Jupyter:\n",
    "\n",
    "- stwórz listę osoba_1, która zawiera dane pojedyńczej osoby w postaci wartości dla pojedeynczej osoby. Niech wartości te reprezentują imię (str), wiek (int), waga (int), wzrost w m (float)\n",
    "- na podstawie kalkulatora BMI dopisz jako ostatnią wartość wskaźnik BMI wyliczony na podstawie dostarczonych danych,\n",
    "- zmodyfkuj imie osoby "
   ]
  },
  {
   "cell_type": "code",
   "execution_count": null,
   "metadata": {},
   "outputs": [],
   "source": [
    "# Miejsce na Twoje rozwiązanie\n",
    "\n"
   ]
  },
  {
   "cell_type": "markdown",
   "metadata": {},
   "source": [
    "### Krotki (tuple)\n",
    "Krotki to uporządkowane, niemodyfikowalne kolekcje elementów.\n"
   ]
  },
  {
   "cell_type": "code",
   "execution_count": 1,
   "metadata": {},
   "outputs": [],
   "source": [
    "\n",
    "# Tworzenie krotki\n",
    "wymiary = (10, 20, 30)\n",
    "osoba = (\"Jan\", \"Kowalski\", 30, \"Programista\")\n",
    "pojedynczy_element = (42,)    # Krotka jednoelementowa (przecinek jest konieczny)\n",
    "\n",
    "# Dostęp do elementów\n",
    "imie = osoba[0]               # \"Jan\"\n",
    "zawod = osoba[-1]             # \"Programista\"\n",
    "\n",
    "# Próba modyfikacji wywołuje błąd\n",
    "# osoba[0] = \"Adam\"  # TypeError: 'tuple' object does not support item assignment\n",
    "\n",
    "# Rozpakowanie krotki\n",
    "imie, nazwisko, wiek, zawod = osoba\n",
    "\n",
    "# Krotki są niezmienne, ale mogą zawierać elementy zmienne\n",
    "zmienne_dane = ([1, 2, 3], \"test\")\n",
    "zmienne_dane[0].append(4)     # Modyfikacja listy w krotce jest dozwolona"
   ]
  },
  {
   "cell_type": "code",
   "execution_count": null,
   "metadata": {},
   "outputs": [],
   "source": [
    "# Tworzenie słownika\n",
    "osoba = {\n",
    "    \"imie\": \"Jan\", \n",
    "    \"nazwisko\": \"Kowalski\", \n",
    "    \"wiek\": 30,\n",
    "    \"zawod\": \"Programista\"\n",
    "}\n",
    "\n",
    "print(osoba)\n"
   ]
  },
  {
   "cell_type": "code",
   "execution_count": null,
   "metadata": {},
   "outputs": [],
   "source": [
    "\n",
    "# Tworzenie pustego słownika\n",
    "pusty_slownik = {}\n",
    "inny_pusty = dict()\n",
    "\n",
    "print(pusty_slownik)\n",
    "\n"
   ]
  },
  {
   "cell_type": "code",
   "execution_count": null,
   "metadata": {},
   "outputs": [],
   "source": [
    "# Dostęp do wartości przez klucz\n",
    "\n",
    "imie = osoba[\"imie\"]      # \"Jan\"\n",
    "print(imie)\n"
   ]
  },
  {
   "cell_type": "code",
   "execution_count": null,
   "metadata": {},
   "outputs": [],
   "source": [
    "\n",
    "# Modyfikacja wartości\n",
    "\n",
    "print(osoba[\"wiek\"])\n",
    "osoba[\"wiek\"] = 31        # Zmiana istniejącej wartości\n",
    "print(osoba[\"wiek\"])\n",
    "\n",
    "osoba[\"hobby\"] = \"Sport\"  # Dodanie nowej pary klucz-wartość\n",
    "\n",
    "# Bezpieczny dostęp z get()\n",
    "telefon = osoba.get(\"telefon\")  # None (klucz nie istnieje)\n",
    "telefon = osoba.get(\"telefon\", \"brak\")  # \"brak\" (wartość domyślna)\n",
    "\n",
    "# Usuwanie elementów\n",
    "usuniety_wiek = osoba.pop(\"wiek\")  # Usuwa i zwraca wartość\n",
    "del osoba[\"zawod\"]               # Tylko usuwa\n",
    "\n",
    "\n",
    "# Sprawdzanie czy klucz istnieje\n",
    "if \"hobby\" in osoba:\n",
    "    print(\"Osoba ma hobby\")\n"
   ]
  },
  {
   "cell_type": "markdown",
   "metadata": {},
   "source": [
    "### Łańcuchy znaków (str)\n",
    "Łańcuchy znaków to sekwencje znaków, które są niemodyfikowalne."
   ]
  },
  {
   "cell_type": "code",
   "execution_count": null,
   "metadata": {},
   "outputs": [],
   "source": [
    "# Tworzenie łańcuchów znaków\n",
    "tekst = \"Python jest świetny!\"\n",
    "tekst_apostrofy = 'Python to język programowania'\n",
    "tekst_wieloliniowy = \"\"\"To jest tekst\n",
    "na wiele\n",
    "linii.\"\"\"\n",
    "tekst_cytowany = 'To jest \"cytowany\" tekst'\n",
    "\n",
    "print(tekst)\n",
    "print(tekst_wieloliniowy)\n",
    "print(tekst_cytowany)"
   ]
  },
  {
   "cell_type": "code",
   "execution_count": null,
   "metadata": {},
   "outputs": [],
   "source": [
    "\n",
    "# Dostęp do znaków\n",
    "pierwsza_litera = tekst[0]    # \"P\"\n",
    "ostatnia_litera = tekst[-1]   # \"!\"\n",
    "\n",
    "# Wycinki\n",
    "pierwsze_slowo = tekst[:6]    # \"Python\"\n",
    "bez_pierwszego = tekst[7:]    # \"jest świetny!\"\n",
    "\n",
    "# Podstawowe metody dla stringów\n",
    "male_litery = tekst.lower()   # zamienia na małe litery\n",
    "wielkie_litery = tekst.upper()  # zamienia na wielkie litery\n",
    "zamiana = tekst.replace(\"Python\", \"JavaScript\")  # zamienia \"Python\" na \"JavaScript\"\n",
    "lista_slow = tekst.split()    # dzieli string na listę słów\n",
    "\n",
    "# Łączenie (konkatenacja)\n",
    "powitanie = \"Cześć, \" + \"świecie!\"\n"
   ]
  },
  {
   "cell_type": "markdown",
   "metadata": {},
   "source": [
    "## Uwaga !! Praca z tekstem i formatowanie jest bardzo wazne z punktu widzenia tego przedmiotu i zaliczenia na 5.0 (będziemy mocno uzywać)"
   ]
  },
  {
   "cell_type": "code",
   "execution_count": 10,
   "metadata": {},
   "outputs": [],
   "source": [
    "\n",
    "# Formatowanie\n",
    "imie = \"Anna\"\n",
    "wiek = 25\n",
    "\n",
    "# Podejście z konkatenacją\n",
    "tekst_formatowany1 = \"Mam na imię \" + imie + \" i mam \" + str(wiek) + \" lat.\" # podejście to działa ale jest nieczytelne, wymaga konwersji wszystkich wartości na string, jest podatne na błedy\n",
    "\n",
    "# Podejście z formatowaniem\n",
    "tekst_formatowany2 = \"Mam na imię %s i mam %d lat.\" % (imie, wiek) # lepiej, jednak trzeba deklarować typy danych w kodzie, gdzie %s to string, %d to int\n",
    "\n",
    "# Podejście z f-string (od Python 3.6)\n",
    "tekst_formatowany3 = f\"Mam na imię {imie} i mam {wiek} lat.\" # tutaj jest najwygodniej, najczytelniej i najbezpieczniej\n",
    "\n"
   ]
  },
  {
   "cell_type": "markdown",
   "metadata": {},
   "source": [
    "## 2. Instrukcje warunkowe if, elif, else\n",
    "\n",
    "### Wprowadzenie do instrukcji warunkowych\n",
    "Instrukcje warunkowe pozwalają na wykonanie różnych bloków kodu w zależności od spełnienia określonych warunków.\n",
    "\n",
    "### Struktura instrukcji if, elif, else\n",
    "```python\n",
    "# Podstawowa struktura if\n",
    "if warunek:\n",
    "    # kod wykonywany, gdy warunek jest prawdziwy\n",
    "    \n",
    "# Struktura if-else\n",
    "if warunek:\n",
    "    # kod wykonywany, gdy warunek jest prawdziwy\n",
    "else:\n",
    "    # kod wykonywany, gdy warunek jest fałszywy\n",
    "    \n",
    "# Struktura if-elif-else\n",
    "if warunek1:\n",
    "    # kod wykonywany, gdy warunek1 jest prawdziwy\n",
    "elif warunek2:\n",
    "    # kod wykonywany, gdy warunek1 jest fałszywy, a warunek2 prawdziwy\n",
    "elif warunek3:\n",
    "    # kod wykonywany, gdy warunek1 i warunek2 są fałszywe, a warunek3 prawdziwy\n",
    "else:\n",
    "    # kod wykonywany, gdy żaden z warunków nie jest prawdziwy\n",
    "```"
   ]
  },
  {
   "cell_type": "markdown",
   "metadata": {},
   "source": [
    "### Zadanie praktyczne\n",
    "- modyfikuj zmienną `wiek` i sprawdzaj jak zmieni się komunikat w zaleności od wieku\n",
    "- zmień warunek tak aby pełnoletniość była \"zaliczana\" od 21 roku zycia"
   ]
  },
  {
   "cell_type": "code",
   "execution_count": null,
   "metadata": {},
   "outputs": [],
   "source": [
    "wiek = 18\n",
    "if wiek >= 18:\n",
    "    print(\"Jesteś pełnoletni\")\n",
    "else:\n",
    "    print(\"Jesteś niepełnoletni\")\n",
    "\n"
   ]
  },
  {
   "cell_type": "markdown",
   "metadata": {},
   "source": [
    "### Zadanie praktyczne\n",
    "\n",
    "napisz kod, który będzie wyświetać komunikat zalezny od wartości BMI:\n",
    "\n",
    " - Niedowaga: BMI poniżej 18.5\n",
    " - Waga prawidłowa: BMI od 18.5 do 24.9\n",
    " - Nadwaga: BMI od 25\n",
    "\n",
    " przykładowy komunikakat to:\n",
    "\n",
    " \"Hej Bartek! <br>\n",
    " Twoje BMI wynosi: 28 (Nadwaga)\"  \n",
    "\n",
    "### Wzór na BMI\n",
    "\n",
    "BMI (Body Mass Index) jest obliczany według wzoru:\n",
    "\n",
    "\n",
    "BMI = masa ciała w kilogramach / (wzrost w metrach)²\n",
    "\n",
    "\n",
    "Gdzie:\n",
    "- Masa ciała jest podawana w kilogramach (kg)\n",
    "- Wzrost jest podawany w metrach (m)"
   ]
  },
  {
   "cell_type": "code",
   "execution_count": 11,
   "metadata": {},
   "outputs": [],
   "source": [
    "# Miesjce na Twoje rozwiązanie\n",
    "\n",
    "# tutaj zadeklaruj wszystkie potrzebne zmienne (odkomentuj usuwając # przed nazwą zmiennej i zadaklaruj wartośc)\n",
    "# nie pytaj juz uzytkownika o wiek, wzrost i wage (funkcja input), zmienne zadeklaruj bezposrednio w kodzie\n",
    "\n",
    "# waga = \n",
    "# wzrost = \n",
    "# bmi = \n",
    "# imie\n",
    "\n",
    "# Oblicz BMI: (wzrost w ) i zaokrąglij do 1 miejsca po przecinku (funkcja round())\n",
    "\n",
    "\n",
    "\n",
    "# wyswietl komunikat zalezny od wartości BMI, uzyj f-string przyklad wcześniej z `teskt_sformatowany3`\n",
    "\n",
    "\n",
    "\n"
   ]
  },
  {
   "cell_type": "code",
   "execution_count": 1,
   "metadata": {},
   "outputs": [
    {
     "name": "stdout",
     "output_type": "stream",
     "text": [
      "Hej Bartek!\n",
      "Twoje BMI wynosi: 27.755102040816325 (Nadwaga)\n"
     ]
    }
   ],
   "source": [
    "# Deklaracja zmiennych\n",
    "imie = \"Bartek\"\n",
    "waga = 85  # kg\n",
    "wzrost = 1.75  # m\n",
    "bmi = waga / (wzrost ** 2)\n",
    "\n",
    "# Przygotowanie komunikatu w zależności od BMI\n",
    "if bmi < 18.5:\n",
    "    kategoria = \"Niedowaga\"\n",
    "elif bmi <= 24.9:\n",
    "    kategoria = \"Waga prawidłowa\" \n",
    "else:\n",
    "    kategoria = \"Nadwaga\"\n",
    "\n",
    "# Wyświetlenie komunikatu z użyciem f-string\n",
    "print(f\"Hej {imie}!\\nTwoje BMI wynosi: {bmi} ({kategoria})\")\n"
   ]
  }
 ],
 "metadata": {
  "kernelspec": {
   "display_name": "dmi_2022",
   "language": "python",
   "name": "python3"
  },
  "language_info": {
   "codemirror_mode": {
    "name": "ipython",
    "version": 3
   },
   "file_extension": ".py",
   "mimetype": "text/x-python",
   "name": "python",
   "nbconvert_exporter": "python",
   "pygments_lexer": "ipython3",
   "version": "3.11.3"
  }
 },
 "nbformat": 4,
 "nbformat_minor": 2
}
