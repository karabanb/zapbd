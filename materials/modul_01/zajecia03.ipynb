{
 "cells": [
  {
   "cell_type": "markdown",
   "metadata": {},
   "source": [
    " # Zajęcia 3. Funkcje, Biblioteki. Pętle"
   ]
  },
  {
   "cell_type": "markdown",
   "metadata": {},
   "source": [
    "### Wprowadzenie do funkcji w Pythonie\n",
    "\n",
    "Funkcje to jeden z fundamentalnych elementów programowania w Pythonie. Są to bloki kodu, które wykonują określone zadanie i można je wielokrotnie wywołać w różnych miejscach programu.\n",
    "\n",
    "#### Czym są funkcje?\n",
    "\n",
    "Funkcje można porównać do małych \"maszyn\", które:\n",
    "- Przyjmują dane wejściowe (argumenty) - chocia nie jest to warunek konieczny\n",
    "- Wykonują pewne operacje na tych danych\n",
    "- Zwracają wynik (wartość)\n",
    "\n",
    "#### Dlaczego używamy funkcji?\n",
    "\n",
    "1. **Modularność kodu** - Funkcje pozwalają dzielić program na mniejsze, łatwiejsze do zrozumienia części\n",
    "2. **Wielokrotne użycie kodu** - Zamiast kopiować i wklejać ten sam kod w wielu miejscach, możemy użyć funkcji\n",
    "3. **Czytelność** - Dobrze nazwane funkcje sprawiają, że kod jest bardziej zrozumiały\n",
    "4. **Łatwiejsze testowanie** - Łatwiej jest testować małe, izolowane funkcje niż duże bloki kodu\n",
    "5. **Abstrakcja** - Użytkownik funkcji nie musi znać szczegółów jej implementacji, wystarczy że wie jak jej używać\n",
    "\n",
    "#### Podstawowa składnia funkcji w Pythonie\n",
    "\n",
    "```python\n",
    "def nazwa_funkcji(parametr1, parametr2, ...):\n",
    "    \"\"\"Dokumentacja funkcji (docstring).\"\"\"\n",
    "    # Ciało funkcji - kod wykonywany podczas wywołania\n",
    "    # ...\n",
    "    return wynik  # Opcjonalnie - funkcja może zwrócić wartość\n",
    "```"
   ]
  },
  {
   "cell_type": "markdown",
   "metadata": {},
   "source": [
    "\n",
    "\n",
    "### Zadanie: Zamiana kodu obliczającego BMI na funkcję\n",
    "\n",
    "Poniżej znajduje się przykładowy kod obliczający BMI i wyświetlający odpowiedni komunikat:\n",
    "```python\n",
    "    # Obliczenie BMI\n",
    "    bmi = round(waga / (wzrost ** 2), 1)\n",
    "    \n",
    "    # Określenie kategorii\n",
    "    if bmi < 18.5:\n",
    "        kategoria = \"Niedowaga\"\n",
    "    elif bmi <= 24.9:\n",
    "        kategoria = \"Waga prawidłowa\"\n",
    "    else:\n",
    "        kategoria = \"Nadwaga\"\n",
    "        \n",
    "    # Przygotowanie i zwrócenie komunikatu\n",
    "    return f\"Hej {imie}!\\nTwoje BMI wynosi: {bmi} ({kategoria})\"\n",
    "```\n",
    "### Przykład użycia:\n",
    "print(oblicz_bmi(\"Bartek\", 85, 1.75))\n",
    "\n",
    "### Twoim zadaniem jest \"opakownie\" go w funkcje tak aby po wywołaniu `oblicz_bmi(\"Imie\", 93, 1.81)` wyświetlił odpowiedni komunikat \n",
    "\n",
    "\n"
   ]
  },
  {
   "cell_type": "code",
   "execution_count": 2,
   "metadata": {},
   "outputs": [
    {
     "name": "stdout",
     "output_type": "stream",
     "text": [
      "Hej Bartek!\n",
      "Twoje BMI wynosi: 28.4 (Nadwaga)\n"
     ]
    }
   ],
   "source": [
    "# kod do zaimplementowania w funkcje\n",
    "\n",
    "waga = 93\n",
    "wzrost = 1.81\n",
    "imie = \"Bartek\"\n",
    "\n",
    "bmi = round(waga / (wzrost ** 2), 1)\n",
    "    \n",
    "# Określenie kategorii\n",
    "if bmi < 18.5:\n",
    "    kategoria = \"Niedowaga\"\n",
    "elif bmi <= 24.9:\n",
    "    kategoria = \"Waga prawidłowa\"\n",
    "else:\n",
    "    kategoria = \"Nadwaga\"\n",
    "    \n",
    "# Przygotowanie i zwrócenie komunikatu\n",
    "print(f\"Hej {imie}!\\nTwoje BMI wynosi: {bmi} ({kategoria})\")"
   ]
  }
 ],
 "metadata": {
  "kernelspec": {
   "display_name": "dmi_2022",
   "language": "python",
   "name": "python3"
  },
  "language_info": {
   "codemirror_mode": {
    "name": "ipython",
    "version": 3
   },
   "file_extension": ".py",
   "mimetype": "text/x-python",
   "name": "python",
   "nbconvert_exporter": "python",
   "pygments_lexer": "ipython3",
   "version": "3.11.3"
  }
 },
 "nbformat": 4,
 "nbformat_minor": 2
}
