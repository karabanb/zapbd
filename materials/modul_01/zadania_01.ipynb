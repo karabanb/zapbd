{
 "cells": [
  {
   "cell_type": "markdown",
   "metadata": {},
   "source": []
  },
  {
   "cell_type": "markdown",
   "metadata": {},
   "source": [
    "# Lista 1: Wprowadzenie do Pythona - Interakcja z użytkownikiem, zmienne, typy danych i podstawowe operacje arytmetyczne\n",
    "\n",
    "W tym zadaniu utrwalisz poznane funkcje w Pythonie jak `input()` i `print()`, nauczysz się korzystać ze zmiennych, wykonywać operacje arytmetyczne oraz pracować z podstawowymi typami danych (string, int, float).\n",
    "\n",
    "## Zadanie 1: Pozyskiwanie danych od użytkownika\n",
    "\n",
    "### Cel:\n",
    "- Zapoznanie się z funkcją `input()`\n",
    "- Tworzenie i używanie zmiennych\n",
    "- Podstawowe operacje na danych wprowadzanych przez użytkownika\n",
    "\n",
    "### Treść zadania:\n",
    "Napisz skrypt `calculate_bmi.py`, który poprosi użytkownika o podanie następujących danych:\n",
    "- Imię\n",
    "- Waga (w kilogramach)\n",
    "- Wzrost (w metrach)\n",
    "- Na końcu wyświetli zapisane zmienne na interfejsie\n",
    "\n",
    "**Skrypt powinien pobrać te dane i zapisać je w odpowiednich zmiennych i wyświetlić na interfejs**\n",
    "\n",
    "**Skrypt powinien być uruchomiony z wiersza poleceń CMD**"
   ]
  },
  {
   "cell_type": "markdown",
   "metadata": {},
   "source": [
    "## Zadanie 2: Implementacja formuły do obliczania wskaźnika BMI\n",
    "\n",
    "### Cel:\n",
    "- Wykonywanie operacji arytmetycznych w Pythonie\n",
    "- Łączenie różnych operacji w celu implementacji wzoru matematycznego\n",
    "- Praca z danymi typu float\n",
    "\n",
    "### Treść zadania:\n",
    "- Skopiuj kod ze skryptu `calculate_bmi.py` do komórki notebooka\n",
    "- Rozbuduj skrypt z Zadania 1 o funkcjonalność obliczania wskaźnika BMI (Body Mass Index) użytkownika.\n",
    "- Wyczyść kod z nadmiarowego kody (printowanie wartości z poprzedniego zadania)\n",
    "- Niech wynikiem działania kody będzie wyświetlenie liczby obliczonego wskaźnika BMI\n",
    "\n",
    "Wskaźnik BMI obliczamy według wzoru:\n",
    "BMI = waga (kg) / (wzrost (m))²\n",
    "\n",
    "### Do zapamiętania:\n",
    "- W Pythonie do potęgowania używamy operatora `**` (np. `wzrost ** 2` oznacza wzrost do potęgi 2)\n",
    "- Wyniki operacji na liczbach zmiennoprzecinkowych (float) mogą być niedokładne ze względu na specyfikę reprezentacji tych liczb w komputerze\n",
    "- Python stosuje standardowe operatory arytmetyczne: `+` (dodawanie), `-` (odejmowanie), `*` (mnożenie), `/` (dzielenie)"
   ]
  },
  {
   "cell_type": "code",
   "execution_count": null,
   "metadata": {},
   "outputs": [],
   "source": []
  },
  {
   "cell_type": "markdown",
   "metadata": {},
   "source": [
    "## Zadanie 3: Formatowanie wyświetlanych informacji\n",
    "\n",
    "### Cel:\n",
    "- Manipulowanie sposobem wyświetlania danych\n",
    "\n",
    "### Treść zadania:\n",
    "Rozbuduj skrypt z Zadania 2 tak, aby wyświetlał wyniki w estetyczny i czytelny sposób. BMI powinno być zaokrąglone do dwóch miejsc po przecinku, a dodatkowo skrypt powinien w czytelny sposób informować usera o jego BMI\n",
    "\n",
    "Kategorie BMI:\n",
    "- Poniżej 18.5 - niedowaga\n",
    "- 18.5 - 24.9 - prawidłowa waga\n",
    "- 25.0 - 29.9 - nadwaga\n",
    "- 30.0 i więcej - otyłość\n",
    "\n",
    "### Do zapamiętania:\n",
    "- Funkcja `round(liczba, liczba_miejsc_po_przecinku)` służy do zaokrąglania liczb\n",
    "- F-stringi (f\"tekst {zmienna}\") to wygodny sposób formatowania tekstu w Pythonie (dostępne od Pythona 3.6)\n",
    "- Znaki specjalne jak `\\n` (nowa linia) mogą być używane do formatowania tekstu\n",
    "- Operator `*` może być używany do powtarzania ciągów znaków (np. \"-\" * 40 tworzy linię z 40 myślników)"
   ]
  },
  {
   "cell_type": "code",
   "execution_count": null,
   "metadata": {},
   "outputs": [],
   "source": []
  }
 ],
 "metadata": {
  "language_info": {
   "name": "python"
  }
 },
 "nbformat": 4,
 "nbformat_minor": 2
}
