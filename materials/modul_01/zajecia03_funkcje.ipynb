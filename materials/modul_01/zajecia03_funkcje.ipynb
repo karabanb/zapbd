{
 "cells": [
  {
   "cell_type": "markdown",
   "metadata": {},
   "source": [
    " # Zajęcia 3. Funkcje"
   ]
  },
  {
   "cell_type": "markdown",
   "metadata": {},
   "source": [
    "### Wprowadzenie do funkcji w Pythonie\n",
    "\n",
    "Funkcje to jeden z fundamentalnych elementów programowania w Pythonie. Są to bloki kodu, które wykonują określone zadanie i można je wielokrotnie wywołać w różnych miejscach programu.\n",
    "\n",
    "#### Czym są funkcje?\n",
    "\n",
    "Funkcje można porównać do małych \"maszyn\", które:\n",
    "- Przyjmują dane wejściowe (argumenty) - chocia nie jest to warunek konieczny\n",
    "- Wykonują pewne operacje na tych danych\n",
    "- Zwracają wynik (wartość)\n",
    "\n",
    "#### Dlaczego używamy funkcji?\n",
    "\n",
    "1. **Modularność kodu** - Funkcje pozwalają dzielić program na mniejsze, łatwiejsze do zrozumienia części\n",
    "2. **Wielokrotne użycie kodu** - Zamiast kopiować i wklejać ten sam kod w wielu miejscach, możemy użyć funkcji\n",
    "3. **Czytelność** - Dobrze nazwane funkcje sprawiają, że kod jest bardziej zrozumiały\n",
    "4. **Łatwiejsze testowanie** - Łatwiej jest testować małe, izolowane funkcje niż duże bloki kodu\n",
    "5. **Abstrakcja** - Użytkownik funkcji nie musi znać szczegółów jej implementacji, wystarczy że wie jak jej używać\n",
    "\n",
    "#### Podstawowa składnia funkcji w Pythonie\n",
    "\n",
    "```python\n",
    "def nazwa_funkcji(parametr1, parametr2, ...):\n",
    "    \"\"\"Dokumentacja funkcji (docstring).\"\"\"\n",
    "    # Ciało funkcji - kod wykonywany podczas wywołania\n",
    "    # ...\n",
    "    return wynik  # Opcjonalnie - funkcja może zwrócić wartość\n",
    "```"
   ]
  },
  {
   "cell_type": "code",
   "execution_count": 6,
   "metadata": {},
   "outputs": [],
   "source": [
    "# przykład funkcji potęgującej\n",
    "def poteguj(liczba, potega):\n",
    "    \"\"\"Funkcja potęgująca liczbę do podanej potęgi.\"\"\"\n",
    "    return liczba ** potega"
   ]
  },
  {
   "cell_type": "code",
   "execution_count": null,
   "metadata": {},
   "outputs": [],
   "source": [
    "# wywołanie funkcji\n",
    "\n",
    "print(poteguj(2, 3))  # wyświetli 8"
   ]
  },
  {
   "cell_type": "code",
   "execution_count": null,
   "metadata": {},
   "outputs": [],
   "source": [
    "# zapisanie wyniku funkcji w zmiennej\n",
    "wynik = poteguj(2, 3)\n",
    "print(wynik)  # wyświetli 8"
   ]
  },
  {
   "cell_type": "markdown",
   "metadata": {},
   "source": [
    "### Wartości domyślne i argumenty opcjonalne w funkcjach\n",
    "\n",
    "Python pozwala na definiowanie funkcji z argumentami, które mają przypisane **wartości domyślne**. Dzięki temu argumenty te stają się **opcjonalne** podczas wywoływania funkcji. Jeśli użytkownik nie poda wartości dla takiego argumentu, funkcja użyje wartości domyślnej.\n",
    "\n",
    "#### Definiowanie wartości domyślnych\n",
    "\n",
    "Wartości domyślne przypisuje się w definicji funkcji za pomocą operatora `=`.\n",
    "\n",
    "```python\n",
    "def przywitaj(imie, powitanie=\"Cześć\"):\n",
    "    \"\"\"Wita użytkownika używając podanego powitania lub domyślnego 'Cześć'.\"\"\"\n",
    "    print(f\"{powitanie}, {imie}!\")\n",
    "\n",
    "# Wywołanie funkcji z podaniem obu argumentów\n",
    "przywitaj(\"Anna\", \"Dzień dobry\") \n",
    "\n",
    "# Wywołanie funkcji bez podania argumentu 'powitanie' (użyje wartości domyślnej)\n",
    "przywitaj(\"Piotr\") \n",
    "```\n",
    "\n",
    "W powyższym przykładzie `powitanie` jest argumentem opcjonalnym z wartością domyślną `\"Cześć\"`.\n",
    "\n",
    "**Ważne:** Argumenty z wartościami domyślnymi muszą być zdefiniowane *po* argumentach bez wartości domyślnych w definicji funkcji.\n",
    "\n",
    "```python\n",
    "# Poprawna definicja\n",
    "def funkcja(arg_wymagany, arg_opcjonalny=\"domyślny\"):\n",
    "    pass\n",
    "\n",
    "# Błędna definicja (spowoduje błąd składni)\n",
    "# def funkcja(arg_opcjonalny=\"domyślny\", arg_wymagany):\n",
    "#     pass \n",
    "```\n",
    "\n",
    "#### Korzyści z używania wartości domyślnych:\n",
    "\n",
    "1.  **Elastyczność:** Funkcje mogą być wywoływane na różne sposoby, w zależności od potrzeb, podając tylko niezbędne argumenty.\n",
    "2.  **Czytelność:** Zmniejsza liczbę argumentów potrzebnych do podania w najczęstszych przypadkach użycia, czyniąc wywołania funkcji bardziej zwięzłymi.\n",
    "3.  **Kompatybilność wsteczna:** Pozwala na dodanie nowych, opcjonalnych argumentów do istniejących funkcji bez psucia kodu, który już z nich korzysta (stare wywołania nadal będą działać).\n",
    "\n",
    "Używanie wartości domyślnych znacznie zwiększa elastyczność i możliwości tworzonych funkcji w Pythonie, ułatwiając ich użycie i rozbudowę."
   ]
  },
  {
   "cell_type": "markdown",
   "metadata": {},
   "source": [
    "### Zadanie: Napisz funkcję pierwiastkującą, która zwróci wartość pierwiastka n-tego stopnia z wybranej liczby, domyślna wartość stopnia to 2"
   ]
  },
  {
   "cell_type": "code",
   "execution_count": 12,
   "metadata": {},
   "outputs": [],
   "source": [
    "# Twoje rozwiązanie:\n",
    "\n",
    "# podpowiedź:\n",
    "# pierwiatek w pythonie można obliczyć w takiej postaci:\n",
    "# pierwiastek_n_stopnia = liczba ** (1/n)\n",
    "# np. pierwiastek_2_stopnia = liczba ** (1/2)\n",
    "\n",
    "\n",
    "\n"
   ]
  },
  {
   "cell_type": "markdown",
   "metadata": {},
   "source": [
    "\n",
    "\n",
    "### Zadanie: Zamiana kodu obliczającego BMI na funkcję\n",
    "\n",
    "Poniżej znajduje się przykładowy kod obliczający BMI i wyświetlający odpowiedni komunikat:\n",
    "```python\n",
    "    # Obliczenie BMI\n",
    "    bmi = round(waga / (wzrost ** 2), 1)\n",
    "    \n",
    "    # Określenie kategorii\n",
    "    if bmi < 18.5:\n",
    "        kategoria = \"Niedowaga\"\n",
    "    elif bmi <= 24.9:\n",
    "        kategoria = \"Waga prawidłowa\"\n",
    "    else:\n",
    "        kategoria = \"Nadwaga\"\n",
    "        \n",
    "    # Przygotowanie i zwrócenie komunikatu\n",
    "    return f\"Hej {imie}!\\nTwoje BMI wynosi: {bmi} ({kategoria})\"\n",
    "```\n",
    "### Przykład użycia:\n",
    "print(oblicz_bmi(\"Bartek\", 85, 1.75))\n",
    "\n",
    "### Twoim zadaniem jest \"opakownie\" go w funkcje tak aby po wywołaniu `oblicz_bmi(\"Imie\", 93, 1.81)` wyświetlił odpowiedni komunikat \n",
    "\n",
    "\n"
   ]
  },
  {
   "cell_type": "code",
   "execution_count": null,
   "metadata": {},
   "outputs": [],
   "source": [
    "# kod do zaimplementowania w funkcje\n",
    "\n",
    "waga = 93\n",
    "wzrost = 1.81\n",
    "imie = \"Bartek\"\n",
    "\n",
    "bmi = round(waga / (wzrost ** 2), 1)\n",
    "    \n",
    "# Określenie kategorii\n",
    "if bmi < 18.5:\n",
    "    kategoria = \"Niedowaga\"\n",
    "elif bmi <= 24.9:\n",
    "    kategoria = \"Waga prawidłowa\"\n",
    "else:\n",
    "    kategoria = \"Nadwaga\"\n",
    "    \n",
    "# Przygotowanie i zwrócenie komunikatu\n",
    "print(f\"Hej {imie}!\\nTwoje BMI wynosi: {bmi} ({kategoria})\")"
   ]
  },
  {
   "cell_type": "code",
   "execution_count": 10,
   "metadata": {},
   "outputs": [],
   "source": [
    "# tutaj wywołaj funkcję oblicz_bmi()"
   ]
  }
 ],
 "metadata": {
  "kernelspec": {
   "display_name": "base",
   "language": "python",
   "name": "python3"
  },
  "language_info": {
   "codemirror_mode": {
    "name": "ipython",
    "version": 3
   },
   "file_extension": ".py",
   "mimetype": "text/x-python",
   "name": "python",
   "nbconvert_exporter": "python",
   "pygments_lexer": "ipython3",
   "version": "3.8.8"
  }
 },
 "nbformat": 4,
 "nbformat_minor": 2
}
