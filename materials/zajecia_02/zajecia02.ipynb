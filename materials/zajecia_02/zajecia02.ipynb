{
 "cells": [
  {
   "cell_type": "markdown",
   "metadata": {},
   "source": [
    "# 1. Zmienne w Pythonie\n",
    "\n",
    "Zmienne to podstawowe elementy w programowaniu, które służą do przechowywania danych w pamięci komputera. W Pythonie zmienne działają jak etykiety lub nazwy, które wskazują na wartości przechowywane w pamięci.\n",
    "\n",
    "## Tworzenie zmiennych w Pythonie:\n",
    "\n",
    "Zmienne w Pythonie tworzy się poprzez przypisanie wartości do nazwy za pomocą operatora `=`. Python automatycznie określa typ zmiennej na podstawie przypisanej wartości."
   ]
  },
  {
   "cell_type": "code",
   "execution_count": 1,
   "metadata": {},
   "outputs": [
    {
     "name": "stdout",
     "output_type": "stream",
     "text": [
      "Typ zmiennej liczba_calkowita: <class 'int'>\n",
      "Typ zmiennej liczba_zmiennoprzecinkowa: <class 'float'>\n",
      "Typ zmiennej tekst: <class 'str'>\n",
      "Typ zmiennej prawda: <class 'bool'>\n",
      "Typ zmiennej pusta_wartosc: <class 'NoneType'>\n"
     ]
    }
   ],
   "source": [
    "# Przykłady zmiennych o różnych typach skalarnych\n",
    "\n",
    "# Typ liczbowy całkowity (int)\n",
    "liczba_calkowita = 42\n",
    "wiek = 25\n",
    "liczba_ujemna = -10\n",
    "\n",
    "# Typ liczbowy zmiennoprzecinkowy (float)\n",
    "liczba_zmiennoprzecinkowa = 3.14\n",
    "temperatura = 36.6\n",
    "odleglosc = 12.5\n",
    "\n",
    "# Typ tekstowy (str)\n",
    "tekst = \"Hello World\"\n",
    "imie = \"Anna\"\n",
    "adres = 'ul. Kwiatowa 7'\n",
    "\n",
    "# Typ logiczny (bool)\n",
    "prawda = True\n",
    "falsz = False\n",
    "czy_pelnoletni = wiek >= 18\n",
    "\n",
    "# Typ NoneType (None) - reprezentuje brak wartości\n",
    "pusta_wartosc = None\n",
    "\n",
    "# Wyświetlenie typów zmiennych\n",
    "print(f\"Typ zmiennej liczba_calkowita: {type(liczba_calkowita)}\")\n",
    "print(f\"Typ zmiennej liczba_zmiennoprzecinkowa: {type(liczba_zmiennoprzecinkowa)}\")\n",
    "print(f\"Typ zmiennej tekst: {type(tekst)}\")\n",
    "print(f\"Typ zmiennej prawda: {type(prawda)}\")\n",
    "print(f\"Typ zmiennej pusta_wartosc: {type(pusta_wartosc)}\")\n"
   ]
  },
  {
   "cell_type": "markdown",
   "metadata": {},
   "source": [
    "# Dynamiczne typowanie i konwersja typów w Pythonie\n",
    "\n",
    "Python jest językiem dynamicznie typowanym, co oznacza, że nie musimy jawnie deklarować typu zmiennej podczas jej tworzenia. Interpreter Pythona automatycznie przypisuje typ danych na podstawie wartości, którą przechowuje dana zmienna."
   ]
  },
  {
   "cell_type": "code",
   "execution_count": 5,
   "metadata": {},
   "outputs": [
    {
     "name": "stdout",
     "output_type": "stream",
     "text": [
      "Wartość: 5, typ: <class 'int'>\n",
      "Wartość: pięć, typ: <class 'str'>\n",
      "Wartość: 5.0, typ: <class 'float'>\n"
     ]
    }
   ],
   "source": [
    "# Python automatycznie określa typ zmiennej\n",
    "x = 10          # automatycznie typ int\n",
    "y = 3.14        # automatycznie typ float\n",
    "nazwa = \"Python\"  # automatycznie typ str\n",
    "jest_aktywny = True  # automatycznie typ bool\n",
    "\n",
    "# Możemy w dowolnym momencie zmienić typ zmiennej\n",
    "z = 5           # początkowo z jest typu int\n",
    "print(f\"Wartość: {z}, typ: {type(z)}\")  # Wartość: 5, typ: <class 'int'>\n",
    "\n",
    "z = \"pięć\"      # teraz z jest typu str\n",
    "print(f\"Wartość: {z}, typ: {type(z)}\")  # Wartość: pięć, typ: <class 'str'>\n",
    "\n",
    "z = 5.0         # teraz z jest typu float\n",
    "print(f\"Wartość: {z}, typ: {type(z)}\")  # Wartość: 5.0, typ: <class 'float'>"
   ]
  },
  {
   "cell_type": "markdown",
   "metadata": {},
   "source": [
    "# Konwersja typów (rzutowanie)\n",
    "\n",
    "Python oferuje wbudowane funkcje do konwersji między różnymi typami danych. Jest to szczególnie przydatne, gdy musimy przeprowadzić operacje na wartościach różnych typów."
   ]
  }
 ],
 "metadata": {
  "kernelspec": {
   "display_name": "aws-bedrock-training",
   "language": "python",
   "name": "python3"
  },
  "language_info": {
   "codemirror_mode": {
    "name": "ipython",
    "version": 3
   },
   "file_extension": ".py",
   "mimetype": "text/x-python",
   "name": "python",
   "nbconvert_exporter": "python",
   "pygments_lexer": "ipython3",
   "version": "3.12.6"
  }
 },
 "nbformat": 4,
 "nbformat_minor": 2
}
